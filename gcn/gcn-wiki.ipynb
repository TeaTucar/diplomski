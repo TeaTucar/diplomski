{
 "cells": [
  {
   "cell_type": "markdown",
   "id": "8e6a1678",
   "metadata": {},
   "source": [
    "GCN with Wiki-CS data"
   ]
  },
  {
   "cell_type": "code",
   "execution_count": null,
   "id": "5302f36e",
   "metadata": {},
   "outputs": [],
   "source": [
    "import torch\n",
    "import torch.nn.functional as F\n",
    "from torch_geometric.datasets import WikiCS\n",
    "from torch_geometric.nn import GCNConv"
   ]
  },
  {
   "cell_type": "markdown",
   "id": "3d4d3d0f",
   "metadata": {},
   "source": [
    "Download dataset"
   ]
  },
  {
   "cell_type": "code",
   "execution_count": null,
   "id": "7c6f02df",
   "metadata": {},
   "outputs": [],
   "source": [
    "from torch_geometric.utils import add_self_loops\n",
    "\n",
    "dataset = WikiCS(root=\"../data/WikiCS\")\n",
    "data = dataset[0]\n",
    "\n",
    "edge_index, _ = add_self_loops(data.edge_index, num_nodes=data.num_nodes)   # done in the dataset paper\n",
    "data.edge_index = edge_index\n",
    "\n",
    "# out of 20 splits, use 1\n",
    "# merge stopping split with train -> new split: 35/15/50\n",
    "train_mask = data.train_mask[:, 0] | data.stopping_mask[:, 0]  # torch.Size([11701])\n",
    "val_mask   = data.val_mask[:, 0]\n",
    "#stop_mask  = data.stopping_mask[:, 0]\n",
    "test_mask   = data.test_mask  # only one\n",
    "\n",
    "device = torch.device(\"cuda\" if torch.cuda.is_available() else \"cpu\")"
   ]
  },
  {
   "cell_type": "markdown",
   "id": "af2382f3",
   "metadata": {},
   "source": [
    "Basic GCN model"
   ]
  },
  {
   "cell_type": "code",
   "execution_count": null,
   "id": "357903a9",
   "metadata": {},
   "outputs": [],
   "source": [
    "class GCN(torch.nn.Module):\n",
    "    def __init__(self, in_channels, hidden_channels, out_channels, dropout):\n",
    "        super().__init__()\n",
    "        self.conv1 = GCNConv(in_channels, hidden_channels)\n",
    "        self.conv2 = GCNConv(hidden_channels, out_channels)\n",
    "        self.dropout = dropout\n",
    "\n",
    "    def forward(self, x, edge_index):\n",
    "        #x  = F.dropout(x, p=0.5, training=self.training)    #in the official example\n",
    "        x = self.conv1(x, edge_index)\n",
    "        x = F.relu(x)\n",
    "        x = F.dropout(x, p=self.dropout, training=self.training)\n",
    "        x = self.conv2(x, edge_index)\n",
    "        return x"
   ]
  },
  {
   "cell_type": "code",
   "execution_count": null,
   "id": "7f306a17",
   "metadata": {},
   "outputs": [],
   "source": [
    "def train(model, optimizer, data):\n",
    "    model.train()\n",
    "    optimizer.zero_grad()\n",
    "    out = model(data.x, data.edge_index)\n",
    "\n",
    "    if isinstance(out, tuple):  # because quantized model returns out and comm params\n",
    "        out = out[0]\n",
    "    \n",
    "    loss = F.cross_entropy(out[train_mask], data.y[train_mask])\n",
    "    loss.backward()\n",
    "    optimizer.step()\n",
    "    return loss.item()\n",
    "\n",
    "@torch.no_grad()\n",
    "def test(model, data):\n",
    "    model.eval()\n",
    "    out = model(data.x, data.edge_index)\n",
    "\n",
    "    if isinstance(out, tuple):  # because quantized model returns out and comm params\n",
    "        out = out[0]\n",
    "\n",
    "    pred = out.argmax(dim=-1)\n",
    "\n",
    "    accs = []\n",
    "    for mask in [train_mask, val_mask, test_mask]:\n",
    "        correct = (pred[mask] == data.y[mask]).sum()\n",
    "        accs.append(int(correct) / int(mask.sum()))\n",
    "    return accs  # [train_acc, val_acc, test_acc]\n"
   ]
  },
  {
   "cell_type": "code",
   "execution_count": null,
   "id": "88084469",
   "metadata": {},
   "outputs": [],
   "source": [
    "import random\n",
    "\n",
    "hidden = 33\n",
    "output = int(data.y.max().item()+1)\n",
    "drop = 0.25\n",
    "epochs = 500\n",
    "lr = 0.02\n",
    "weight_decay = 5e-4\n",
    "\n",
    "def set_seed():\n",
    "    seed = random.randint(0, 10_000)\n",
    "    random.seed(seed)\n",
    "    torch.manual_seed(seed)\n",
    "    torch.cuda.manual_seed(seed) \n",
    "    torch.cuda.manual_seed_all(seed)\n",
    "    torch.use_deterministic_algorithms(False)   # have to explicitly disable it (tried to enable deterministic but it was trowing an error)\n",
    "\n",
    "def run_model(ModelClass, data=data, QuantizerClass=None, compress=False):\n",
    "    quantizer = None\n",
    "    set_seed()\n",
    "\n",
    "    if QuantizerClass is not None:\n",
    "        quantizer = QuantizerClass()\n",
    "        model = ModelClass(data.num_features, hidden, output, drop, quantizer=quantizer).to(device)\n",
    "    else:\n",
    "        model = ModelClass(data.num_features, hidden, output, drop).to(device)\n",
    "\n",
    "    optimizer = torch.optim.Adam(model.parameters(), lr=lr, weight_decay=weight_decay)\n",
    "\n",
    "    best_val_acc = 0\n",
    "    best_test_acc = 0\n",
    "\n",
    "    for epoch in range(epochs):\n",
    "        data.to(device)\n",
    "        train(model, optimizer, data)\n",
    "        train_acc, val_acc, test_acc = test(model, data)\n",
    "\n",
    "        if val_acc > best_val_acc:\n",
    "            best_val_acc = val_acc\n",
    "            best_test_acc = test_acc\n",
    "\n",
    "    if QuantizerClass is not None:\n",
    "        return (best_val_acc, best_test_acc), quantizer   # for access in comm calculation, one representative quantizer\n",
    "    \n",
    "    if compress:\n",
    "        return model, best_val_acc, best_test_acc\n",
    "\n",
    "    return best_val_acc, best_test_acc"
   ]
  },
  {
   "cell_type": "code",
   "execution_count": null,
   "id": "299b3e3b",
   "metadata": {},
   "outputs": [],
   "source": [
    "def acc_results(results):\n",
    "    if isinstance(results, tuple) and len(results) == 3:\n",
    "        val_acc, test_acc, _ = results\n",
    "    else:\n",
    "        val_acc, test_acc = results\n",
    "\n",
    "    print(\"Accuracy results:\")\n",
    "    print(f\"Validation = {val_acc:.4f}, Test = {test_acc:.4f}\")\n",
    "\n",
    "def neigh_size(data, k=None):   # calculate size of neighborhood for each node, limit k when sampling\n",
    "    \n",
    "    neigh_count = torch.zeros(data.num_nodes, dtype=torch.int64)\n",
    "    for target in data.edge_index[1]:\n",
    "        neigh_count[target] += 1\n",
    "\n",
    "    if k is not None:\n",
    "        neigh_count[neigh_count > k] = k\n",
    "\n",
    "    return neigh_count\n",
    "\n",
    "def layer_comm(data, feature_dim, quant=None, k=None):    # calculate total communication in one layer; feature_dim = number of features\n",
    "    total_size = 0\n",
    "    \n",
    "    if quant is not None:\n",
    "        msg_size = feature_dim * quant.feat_size    # use quantized size of feature\n",
    "        total_size = quant.params_size  # add scale and min size\n",
    "    else:\n",
    "        feature_size = data.x.element_size() # size of one element in tensor (feature) in bytes\n",
    "        msg_size = feature_dim * feature_size   # size of one message one node sends in bytes\n",
    "\n",
    "    \n",
    "    total_msg = neigh_size(data, k).sum().item()    # number of messages in one layer\n",
    "    total_size += msg_size * total_msg\n",
    "\n",
    "    return total_size"
   ]
  },
  {
   "cell_type": "code",
   "execution_count": null,
   "id": "ec5f196b",
   "metadata": {},
   "outputs": [
    {
     "name": "stdout",
     "output_type": "stream",
     "text": [
      "Accuracy results:\n",
      "Validation = 0.8349, Test = 0.8102\n",
      "Total communication in layer 1: 519641.02 KB = 507.46 MB\n"
     ]
    }
   ],
   "source": [
    "gcn_results = run_model(GCN)\n",
    "acc_results(gcn_results)\n",
    "\n",
    "gcn_total = layer_comm(data, data.x.shape[1])   # input feature size\n",
    "print(f\"Total communication in layer 1: { gcn_total / 1024:.2f} KB = { gcn_total / (1024**2):.2f} MB\")"
   ]
  },
  {
   "cell_type": "code",
   "execution_count": null,
   "id": "cd3ff608",
   "metadata": {},
   "outputs": [
    {
     "name": "stdout",
     "output_type": "stream",
     "text": [
      "Total communication of basic model through both layers: 576801.53 KB\n"
     ]
    }
   ],
   "source": [
    "gcn_l2 = layer_comm(data, feature_dim=hidden)\n",
    "full_gcn = gcn_total + gcn_l2\n",
    "\n",
    "print(f\"Total communication of basic model through both layers: { full_gcn / 1024:.2f} KB\")"
   ]
  },
  {
   "cell_type": "markdown",
   "id": "750ddeab",
   "metadata": {},
   "source": [
    "Quantized GCN models"
   ]
  },
  {
   "cell_type": "code",
   "execution_count": null,
   "id": "3a2361aa",
   "metadata": {},
   "outputs": [],
   "source": [
    "from abc import ABC, abstractmethod\n",
    "\n",
    "class Quantizer(ABC):\n",
    "    def __init__(self):\n",
    "        self.feat_size = 1   # compress each feature to 1 byte, 8 bits \n",
    "        self.min = 0    # min and max possible numbers to code with 8 bits\n",
    "        self.max = 255\n",
    "\n",
    "    @abstractmethod\n",
    "    def _find_minmax(self, x):\n",
    "        pass\n",
    "\n",
    "    def quantize(self, x):\n",
    "        x_min, x_max = self._find_minmax(x)\n",
    "        scale = (x_max - x_min) / (self.max - self.min) # edge case when max=min ?  + 1e-8\n",
    "        x_quant = torch.clamp(((x - x_min) / scale).round(), self.min, self.max)\n",
    "        x_quant = x_quant.to(torch.uint8)   # compress to int\n",
    "        # calculate size of scale and min which are sent once\n",
    "        self.params_size = scale.numel() * scale.element_size() + x_min.numel() * x_min.element_size()\n",
    "\n",
    "        return x_quant, (scale, x_min)  # all of this is part of communication\n",
    "    \n",
    "    def dequantize(self, x_quant, params):\n",
    "        scale, x_min = params\n",
    "        return x_quant.float() * scale + x_min\n"
   ]
  },
  {
   "cell_type": "code",
   "execution_count": null,
   "id": "b9eb2460",
   "metadata": {},
   "outputs": [],
   "source": [
    "class GlobalQuantizer(Quantizer):\n",
    "    def _find_minmax(self, x):\n",
    "        x_min = x.min()\n",
    "        x_max = x.max()\n",
    "        return x_min, x_max"
   ]
  },
  {
   "cell_type": "code",
   "execution_count": null,
   "id": "1497a5cb",
   "metadata": {},
   "outputs": [],
   "source": [
    "class FeatureQuantizer(Quantizer):\n",
    "    def _find_minmax(self, x):\n",
    "        x_min = x.min(dim=0, keepdim=True).values\n",
    "        x_max = x.max(dim=0, keepdim=True).values\n",
    "        return x_min, x_max"
   ]
  },
  {
   "cell_type": "code",
   "execution_count": null,
   "id": "11a994a0",
   "metadata": {},
   "outputs": [],
   "source": [
    "class NodeQuantizer(Quantizer):\n",
    "    def _find_minmax(self, x):\n",
    "        x_min = x.min(dim=1, keepdim=True).values\n",
    "        x_max = x.max(dim=1, keepdim=True).values\n",
    "        return x_min, x_max"
   ]
  },
  {
   "cell_type": "code",
   "execution_count": null,
   "id": "59cc90e7",
   "metadata": {},
   "outputs": [],
   "source": [
    "class GCNQuantized(torch.nn.Module):\n",
    "    def __init__(self, in_channels, hidden_channels, out_channels, dropout, quantizer=GlobalQuantizer):\n",
    "        super().__init__()\n",
    "        self.quantizer = quantizer\n",
    "        self.conv1 = GCNConv(in_channels, hidden_channels)\n",
    "        self.conv2 = GCNConv(hidden_channels, out_channels)\n",
    "        self.dropout = dropout\n",
    "\n",
    "    def forward(self, x, edge_index):\n",
    "        x_quant, params = self.quantizer.quantize(x)\n",
    "        x = self.quantizer.dequantize(x_quant, params)\n",
    "        x = self.conv1(x, edge_index)\n",
    "        x = F.relu(x)\n",
    "        x = F.dropout(x, p=self.dropout, training=self.training)\n",
    "        x = self.conv2(x, edge_index)\n",
    "        return x, (x_quant, params)"
   ]
  },
  {
   "cell_type": "code",
   "execution_count": null,
   "id": "d20c6f9c",
   "metadata": {},
   "outputs": [
    {
     "name": "stdout",
     "output_type": "stream",
     "text": [
      "Accuracy results:\n",
      "Validation = 0.8372, Test = 0.8103\n",
      "Total communication in layer 1 using global quantization: 129910.26 KB\n",
      "Communication lowered by 389730.75 KB compared to the basic model\n"
     ]
    }
   ],
   "source": [
    "q1_results, q1 = run_model(GCNQuantized, data, QuantizerClass=GlobalQuantizer)\n",
    "acc_results(q1_results)\n",
    "\n",
    "q1_l1 = layer_comm(data, data.x.shape[1], quant=q1)   # input feature size and quantizer to retrieve sizes\n",
    "q1_diff = gcn_total - q1_l1\n",
    "\n",
    "print(f\"Total communication in layer 1 using global quantization: { q1_l1 / 1024:.2f} KB\")\n",
    "print(f\"Communication lowered by { q1_diff / 1024:.2f} KB compared to the basic model\")\n",
    "\n",
    "# full model comm for the last plot\n",
    "q1_l2 = gcn_l2  # they have the same communication after the first layer\n",
    "q1_total = q1_l1 + q1_l2"
   ]
  },
  {
   "cell_type": "code",
   "execution_count": null,
   "id": "27891a0c",
   "metadata": {},
   "outputs": [
    {
     "name": "stdout",
     "output_type": "stream",
     "text": [
      "Accuracy results:\n",
      "Validation = 0.8378, Test = 0.8131\n",
      "Total communication in layer 1 using feature quantization: 129912.60 KB\n",
      "Communication lowered by 389728.42 KB compared to the basic model\n"
     ]
    }
   ],
   "source": [
    "q2_results, q2 = run_model(GCNQuantized, data, QuantizerClass=FeatureQuantizer)\n",
    "acc_results(q2_results)\n",
    "\n",
    "q2_l1 = layer_comm(data, data.x.shape[1], quant=q2)   # input feature size and quantizer to retrieve sizes\n",
    "q2_diff = gcn_total - q2_l1\n",
    "\n",
    "print(f\"Total communication in layer 1 using feature quantization: { q2_l1 / 1024:.2f} KB\")\n",
    "print(f\"Communication lowered by { q2_diff / 1024:.2f} KB compared to the basic model\")\n",
    "\n",
    "# full model comm for the last plot\n",
    "q2_l2 = gcn_l2  # they have the same communication after the first layer\n",
    "q2_total = q2_l1 + q2_l2"
   ]
  },
  {
   "cell_type": "code",
   "execution_count": null,
   "id": "f84f38a1",
   "metadata": {},
   "outputs": [
    {
     "name": "stdout",
     "output_type": "stream",
     "text": [
      "Accuracy results:\n",
      "Validation = 0.8349, Test = 0.8110\n",
      "Total communication in layer 1 using node quantization: 130001.67 KB\n",
      "Communication lowered by 389639.35 KB compared to the basic model\n"
     ]
    }
   ],
   "source": [
    "q3_results, q3 = run_model(GCNQuantized,data, QuantizerClass=NodeQuantizer)\n",
    "acc_results(q3_results)\n",
    "\n",
    "q3_l1 = layer_comm(data, data.x.shape[1], quant=q3)   # input feature size and quantizer to retrieve sizes\n",
    "q3_diff = gcn_total - q3_l1\n",
    "\n",
    "print(f\"Total communication in layer 1 using node quantization: { q3_l1 / 1024:.2f} KB\")\n",
    "print(f\"Communication lowered by { q3_diff / 1024:.2f} KB compared to the basic model\")\n",
    "\n",
    "# full model comm for the last plot\n",
    "q3_l2 = gcn_l2  # they have the same communication after the first layer\n",
    "q3_total = q3_l1 + q3_l2"
   ]
  },
  {
   "cell_type": "markdown",
   "id": "569dca85",
   "metadata": {},
   "source": [
    "Basic GCN model using neighbor sparsification"
   ]
  },
  {
   "cell_type": "code",
   "execution_count": null,
   "id": "00ad250e",
   "metadata": {},
   "outputs": [
    {
     "name": "stdout",
     "output_type": "stream",
     "text": [
      "Min messages per node: 1\n",
      "Max messages per node: 3325\n",
      "Mean degree: 37.90\n",
      "Median degree: 13\n"
     ]
    },
    {
     "data": {
      "image/png": "[encoded data removed]",
      "text/plain": [
       "<Figure size 1000x600 with 1 Axes>"
      ]
     },
     "metadata": {},
     "output_type": "display_data"
    }
   ],
   "source": [
    "# insight to node degrees\n",
    "import matplotlib.pyplot as plt\n",
    "\n",
    "full_neigh = neigh_size(data)\n",
    "\n",
    "print(\"Min messages per node:\", full_neigh.min().item())\n",
    "print(\"Max messages per node:\", full_neigh.max().item())\n",
    "print(f\"Mean degree: {full_neigh.float().mean().item():.2f}\")\n",
    "print(f\"Median degree: {full_neigh.median().item()}\")   # bcs there are outliers\n",
    "\n",
    "unique_degrees, counts = torch.unique(full_neigh, return_counts=True) # how many nodes are of each degree\n",
    "\n",
    "plt.figure(figsize=(10,6))\n",
    "plt.bar(unique_degrees.numpy(), counts.numpy())\n",
    "plt.xlabel(\"Node degree\")\n",
    "plt.ylabel(\"Number of nodes\")\n",
    "plt.title(\"Degree distribution of nodes\")\n",
    "plt.grid(True, axis='y', linestyle='--', alpha=0.6)\n",
    "plt.show()"
   ]
  },
  {
   "cell_type": "code",
   "execution_count": null,
   "id": "1e11b717",
   "metadata": {},
   "outputs": [
    {
     "data": {
      "image/png": "[encoded data removed]",
      "text/plain": [
       "<Figure size 1000x600 with 1 Axes>"
      ]
     },
     "metadata": {},
     "output_type": "display_data"
    }
   ],
   "source": [
    "cumulative_counts = torch.cumsum(counts, dim=0)\n",
    "plt.figure(figsize=(10,6))\n",
    "plt.plot(unique_degrees.numpy(), cumulative_counts.numpy(), marker='o')\n",
    "plt.xlabel(\"Node degree\")\n",
    "plt.ylabel(\"Number of nodes with degree ≤ x\")\n",
    "plt.title(\"Cumulative degree distribution\")\n",
    "plt.grid(True, linestyle='--', alpha=0.6)\n",
    "plt.show()"
   ]
  },
  {
   "cell_type": "code",
   "execution_count": null,
   "id": "ad0dc985",
   "metadata": {},
   "outputs": [
    {
     "name": "stdout",
     "output_type": "stream",
     "text": [
      "Degrees sorted by highest number of nodes (top 30):\n",
      "Degree 3: 770 nodes\n",
      "Degree 4: 721 nodes\n",
      "Degree 2: 636 nodes\n",
      "Degree 5: 590 nodes\n",
      "Degree 6: 566 nodes\n",
      "Degree 7: 449 nodes\n",
      "Degree 8: 412 nodes\n",
      "Degree 9: 357 nodes\n",
      "Degree 10: 354 nodes\n",
      "Degree 1: 334 nodes\n",
      "Degree 11: 292 nodes\n",
      "Degree 12: 240 nodes\n",
      "Degree 13: 208 nodes\n",
      "Degree 15: 185 nodes\n",
      "Degree 14: 181 nodes\n",
      "Degree 16: 153 nodes\n",
      "Degree 18: 141 nodes\n",
      "Degree 17: 134 nodes\n",
      "Degree 19: 117 nodes\n",
      "Degree 20: 114 nodes\n",
      "Degree 22: 104 nodes\n",
      "Degree 24: 102 nodes\n",
      "Degree 21: 98 nodes\n",
      "Degree 27: 93 nodes\n",
      "Degree 26: 89 nodes\n"
     ]
    }
   ],
   "source": [
    "sorted_counts, indices = torch.sort(counts, descending=True)\n",
    "sorted_degrees = unique_degrees[indices]\n",
    "\n",
    "torch.unique(full_neigh, return_counts=True)\n",
    "\n",
    "print(\"Degrees sorted by highest number of nodes (top 30):\")\n",
    "for deg, cnt in zip(sorted_degrees.tolist()[:25], sorted_counts.tolist()[:25]):\n",
    "    print(f\"Degree {deg}: {cnt} nodes\")"
   ]
  },
  {
   "cell_type": "code",
   "execution_count": null,
   "id": "54efb914",
   "metadata": {},
   "outputs": [
    {
     "name": "stdout",
     "output_type": "stream",
     "text": [
      "Median degree: 13\n",
      "75th percentile degree: 48\n",
      "90th percentile degree: 104\n"
     ]
    }
   ],
   "source": [
    "print(\"75th percentile degree:\", int(torch.quantile(full_neigh.float(), 0.75).item()))\n",
    "print(\"90th percentile degree:\", int(torch.quantile(full_neigh.float(), 0.9).item()))"
   ]
  },
  {
   "cell_type": "code",
   "execution_count": null,
   "id": "50a2776c",
   "metadata": {},
   "outputs": [
    {
     "name": "stdout",
     "output_type": "stream",
     "text": [
      "Accuracy results:\n",
      "Validation = 0.8344, Test = 0.8108\n",
      "Total communication with sampling sizes [80, 80]: 422998.45 KB\n",
      "Communication lowered by 153803.07 KB compared to the basic model\n"
     ]
    }
   ],
   "source": [
    "from torch_geometric.loader import NeighborLoader\n",
    "\n",
    "sampling = [[80,80], [80,50], [50,40]]\n",
    "\n",
    "sample1 = sampling[0]\n",
    "# full batch as previously\n",
    "nl1 = NeighborLoader(data, num_neighbors=sample1, batch_size=data.num_nodes, shuffle=False)\n",
    "batch1 = next(iter(nl1))\n",
    "\n",
    "nl1_results = run_model(GCN, data=batch1)\n",
    "acc_results(nl1_results)\n",
    "\n",
    "nl1_l1 = layer_comm(data, data.x.shape[1], quant=None, k=sample1[0])\n",
    "nl1_l2 = layer_comm(data, hidden, quant=None, k=sample1[1])\n",
    "nl1_total = nl1_l1 + nl1_l2\n",
    "\n",
    "nl1_diff = full_gcn - nl1_total\n",
    "\n",
    "print(f\"Total communication with sampling sizes {sample1}: { nl1_total / 1024:.2f} KB\")\n",
    "print(f\"Communication lowered by { nl1_diff / 1024:.2f} KB compared to the basic model\")"
   ]
  },
  {
   "cell_type": "code",
   "execution_count": null,
   "id": "617586ad",
   "metadata": {},
   "outputs": [
    {
     "name": "stdout",
     "output_type": "stream",
     "text": [
      "Accuracy results:\n",
      "Validation = 0.8372, Test = 0.8131\n",
      "Total communication with sampling sizes [80, 50]: 414286.97 KB\n",
      "Communication lowered by 162514.56 KB compared to the basic model\n"
     ]
    }
   ],
   "source": [
    "sample2 = sampling[1]\n",
    "# full batch as previously\n",
    "nl2 = NeighborLoader(data, num_neighbors=sample2, batch_size=data.num_nodes, shuffle=False)\n",
    "batch2 = next(iter(nl2))\n",
    "\n",
    "nl2_results = run_model(GCN, data=batch2)\n",
    "acc_results(nl2_results)\n",
    "\n",
    "nl2_l1 = layer_comm(data, data.x.shape[1], quant=None, k=sample2[0])\n",
    "nl2_l2 = layer_comm(data, hidden, quant=None, k=sample2[1])\n",
    "nl2_total = nl2_l1 + nl2_l2\n",
    "\n",
    "nl2_diff = full_gcn - nl2_total\n",
    "\n",
    "print(f\"Total communication with sampling sizes {sample2}: { nl2_total / 1024:.2f} KB\")\n",
    "print(f\"Communication lowered by { nl2_diff / 1024:.2f} KB compared to the basic model\")"
   ]
  },
  {
   "cell_type": "code",
   "execution_count": null,
   "id": "26e71bb6",
   "metadata": {},
   "outputs": [
    {
     "name": "stdout",
     "output_type": "stream",
     "text": [
      "Accuracy results:\n",
      "Validation = 0.8378, Test = 0.8149\n",
      "Total communication with sampling sizes [50, 40]: 331134.49 KB\n",
      "Communication lowered by 245667.04 KB compared to the basic model\n"
     ]
    }
   ],
   "source": [
    "sample3 = sampling[2]\n",
    "# full batch as previously\n",
    "nl3 = NeighborLoader(data, num_neighbors=sample3, batch_size=data.num_nodes, shuffle=False)\n",
    "batch3 = next(iter(nl3))\n",
    "\n",
    "nl3_results = run_model(GCN, data=batch3)\n",
    "acc_results(nl3_results)\n",
    "\n",
    "nl3_l1 = layer_comm(data, data.x.shape[1], quant=None, k=sample3[0])\n",
    "nl3_l2 = layer_comm(data, hidden, quant=None, k=sample3[1])\n",
    "nl3_total = nl3_l1 + nl3_l2\n",
    "\n",
    "nl3_diff = full_gcn - nl3_total\n",
    "\n",
    "print(f\"Total communication with sampling sizes {sample3}: { nl3_total / 1024:.2f} KB\")\n",
    "print(f\"Communication lowered by { nl3_diff / 1024:.2f} KB compared to the basic model\")"
   ]
  },
  {
   "cell_type": "code",
   "execution_count": null,
   "id": "e3cf41da",
   "metadata": {},
   "outputs": [],
   "source": [
    "from torch_geometric.utils import degree\n",
    "\n",
    "def topk_edges(data, k):\n",
    "    source, target = data.edge_index\n",
    "    deg = degree(source, data.num_nodes)   # deg[i] = number of outgoing edges of node i \n",
    "\n",
    "    new_edges = []\n",
    "    for node in range(data.num_nodes):\n",
    "        neighbors = target[source == node]\n",
    "        if len(neighbors) > k:\n",
    "            neighbors = neighbors[deg[neighbors].argsort(descending=True)[:k]]  # take only top k neighs with highest degrees\n",
    "        for neigh in neighbors:\n",
    "            new_edges.append([node, neigh])\n",
    "\n",
    "    new_edges = torch.tensor(new_edges, dtype=torch.int64).t().contiguous()\n",
    "    data_topk = data.clone()\n",
    "    data_topk.edge_index = new_edges\n",
    "    \n",
    "    return data_topk"
   ]
  },
  {
   "cell_type": "code",
   "execution_count": null,
   "id": "d0f7f968",
   "metadata": {},
   "outputs": [
    {
     "name": "stdout",
     "output_type": "stream",
     "text": [
      "Accuracy results:\n",
      "Validation = 0.8315, Test = 0.8156\n",
      "Total communication with sampling top 100 highest degree neighbors: 461391.01 KB\n",
      "Communication lowered by 115410.52 KB compared to the basic model\n"
     ]
    }
   ],
   "source": [
    "data_topk1 = topk_edges(data, k=100)\n",
    "topk1_results = run_model(GCN, data_topk1)\n",
    "acc_results(topk1_results)\n",
    "\n",
    "\n",
    "topk1_l1 = layer_comm(data_topk1, data.x.shape[1])\n",
    "topk1_l2 = layer_comm(data_topk1, hidden)\n",
    "topk1_total = topk1_l1 + topk1_l2\n",
    "\n",
    "topk1_diff = full_gcn - topk1_total\n",
    "\n",
    "print(f\"Total communication with sampling top 100 highest degree neighbors: { topk1_total / 1024:.2f} KB\")\n",
    "print(f\"Communication lowered by { topk1_diff / 1024:.2f} KB compared to the basic model\")"
   ]
  },
  {
   "cell_type": "code",
   "execution_count": null,
   "id": "28464bcb",
   "metadata": {},
   "outputs": [
    {
     "name": "stdout",
     "output_type": "stream",
     "text": [
      "Accuracy results:\n",
      "Validation = 0.8242, Test = 0.8038\n",
      "Total communication with sampling top 48 highest degree neighbors: 327665.50 KB\n",
      "Communication lowered by 249136.03 KB compared to the basic model\n"
     ]
    }
   ],
   "source": [
    "data_topk2 = topk_edges(data, k=48)\n",
    "topk2_results = run_model(GCN, data_topk2)\n",
    "acc_results(topk2_results)\n",
    "\n",
    "\n",
    "topk2_l1 = layer_comm(data_topk2, data.x.shape[1])\n",
    "topk2_l2 = layer_comm(data_topk2, hidden)\n",
    "topk2_total = topk2_l1 + topk2_l2\n",
    "\n",
    "topk2_diff = full_gcn - topk2_total\n",
    "\n",
    "print(f\"Total communication with sampling top 48 highest degree neighbors: { topk2_total / 1024:.2f} KB\")\n",
    "print(f\"Communication lowered by { topk2_diff / 1024:.2f} KB compared to the basic model\")"
   ]
  },
  {
   "cell_type": "markdown",
   "id": "4f30b94e",
   "metadata": {},
   "source": [
    "Basic GCN model using feature sparsification"
   ]
  },
  {
   "cell_type": "code",
   "execution_count": null,
   "id": "05e2cd55",
   "metadata": {},
   "outputs": [],
   "source": [
    "# random projection - fast, robust to outliers, but usually used for veeery big dimensions otherwise pca\n",
    "import math\n",
    "\n",
    "n = data.x.shape[0] # number of nodes\n",
    "\n",
    "def random_projection(epsilon, data):\n",
    "    k = math.ceil(math.log(n) / epsilon**2)\n",
    "    d = data.x.shape[1]\n",
    "    R = torch.randn(d, k, device=device)   # Gaussian random projection\n",
    "    data.x = data.x @ R\n",
    "    print(f\"Random projection: new feature dim = {k}\")\n",
    "    return data"
   ]
  },
  {
   "cell_type": "code",
   "execution_count": null,
   "id": "7937de8f",
   "metadata": {},
   "outputs": [
    {
     "name": "stdout",
     "output_type": "stream",
     "text": [
      "Random projection: new feature dim = 235\n",
      "Accuracy results:\n",
      "Validation = 0.8021, Test = 0.7802\n",
      "Total communication: 464212.64 KB\n",
      "Communication lowered by 112588.89 KB compared to the basic model\n"
     ]
    }
   ],
   "source": [
    "import copy\n",
    "\n",
    "epsilon1 = 0.2   # allowed distortion\n",
    "data_p1 = copy.deepcopy(data)\n",
    "data_p1 = random_projection(epsilon1, data_p1)\n",
    "\n",
    "fs1_results = run_model(GCN, data=data_p1)\n",
    "acc_results(fs1_results)\n",
    "\n",
    "fs1_l1 = layer_comm(data_p1, data_p1.x.shape[1])\n",
    "fs1_l2 = layer_comm(data_p1, hidden)\n",
    "fs1_total = fs1_l1 + fs1_l2\n",
    "\n",
    "fs1_diff = full_gcn - fs1_total\n",
    "\n",
    "print(f\"Total communication: { fs1_total / 1024:.2f} KB\")\n",
    "print(f\"Communication lowered by { fs1_diff / 1024:.2f} KB compared to the basic model\")"
   ]
  },
  {
   "cell_type": "code",
   "execution_count": null,
   "id": "f4a3df14",
   "metadata": {},
   "outputs": [
    {
     "name": "stdout",
     "output_type": "stream",
     "text": [
      "Random projection: new feature dim = 105\n",
      "Accuracy results:\n",
      "Validation = 0.8259, Test = 0.8040\n",
      "Total communication: 239034.87 KB\n",
      "Communication lowered by 337766.66 KB compared to the basic model\n"
     ]
    }
   ],
   "source": [
    "epsilon2 = 0.3   # allowed distortion\n",
    "data_p2 = copy.deepcopy(data)\n",
    "data_p2 = random_projection(epsilon2, data_p2)\n",
    "\n",
    "fs2_results = run_model(GCN, data=data_p2)\n",
    "acc_results(fs2_results)\n",
    "\n",
    "fs2_l1 = layer_comm(data_p2, data_p2.x.shape[1])\n",
    "fs2_l2 = layer_comm(data_p2, hidden)\n",
    "fs2_total = fs2_l1 + fs2_l2\n",
    "\n",
    "fs2_diff = full_gcn - fs2_total\n",
    "\n",
    "print(f\"Total communication: { fs2_total / 1024:.2f} KB\")\n",
    "print(f\"Communication lowered by { fs2_diff / 1024:.2f} KB compared to the basic model\")"
   ]
  },
  {
   "cell_type": "markdown",
   "id": "55f48aa2",
   "metadata": {},
   "source": [
    "Basic GCN model with model compression after training"
   ]
  },
  {
   "cell_type": "code",
   "execution_count": null,
   "id": "60e8c1eb",
   "metadata": {},
   "outputs": [],
   "source": [
    "# dtype of parameters is float32 with dimensions [33], [33,300], [10], [10,33]\n",
    "# GCN doesn't create buffers so model_size sums only parameters\n",
    "\n",
    "def model_size(model):\n",
    "    param_size = 0\n",
    "    for param in model.parameters():\n",
    "        param_size += param.numel() * param.element_size()\n",
    "    \n",
    "    size = param_size\n",
    "    return size\n",
    "\n",
    "def quantize(x):\n",
    "    qmin = 0\n",
    "    qmax = 255\n",
    "\n",
    "    x_min = x.min()\n",
    "    x_max = x.max()\n",
    "\n",
    "    scale = (x_max - x_min) / (qmax - qmin) # edge case when max=min ?  + 1e-8\n",
    "\n",
    "    x_quant = torch.clamp(((x - x_min) / scale).round(), qmin, qmax)\n",
    "    x_quant = x_quant.to(torch.uint8)   # compress to int\n",
    "    # calculate size of scale and min which are sent once\n",
    "    params_size = scale.element_size() + x_min.element_size()\n",
    "\n",
    "    return x_quant, (scale, x_min), params_size\n",
    "\n",
    "def dequantize(x_quant, params):\n",
    "    scale, x_min = params\n",
    "    return x_quant.float() * scale + x_min\n",
    "\n",
    "def compress_model1(model):\n",
    "\n",
    "    model.half()    # dtype is now float16\n",
    "    size = model_size(model)\n",
    "\n",
    "    return size\n",
    "\n",
    "def compress_model2(model):\n",
    "    size = 0\n",
    "    parameters = list(model.parameters())   # bias and weights x2\n",
    "\n",
    "    for param in parameters:\n",
    "        param_quant, q_params, q_params_size = quantize(param.data) # quantization calculated but not applied\n",
    "        size += param_quant.numel() * param_quant.element_size()\n",
    "        size += q_params_size\n",
    "        # pytorch restriction: parameters can't be int\n",
    "        # in a real world scenario, save (but not directly in live model, modified torch.save) and send, dequantize at central node\n",
    "\n",
    "        param.data = dequantize(param_quant, q_params)\n",
    "\n",
    "    return size"
   ]
  },
  {
   "cell_type": "code",
   "execution_count": null,
   "id": "04cbe079",
   "metadata": {},
   "outputs": [
    {
     "name": "stdout",
     "output_type": "stream",
     "text": [
      "Before compression:\n",
      "Model size = 40.13 KB\n",
      "After compression:\n",
      "Model size = 20.06 KB\n",
      "Accuracy results:\n",
      "Validation = 0.8349, Test = 0.8122\n",
      "Size difference = 20.064453125 KB\n",
      "Accuracy change =  -0.0010261672652641662\n"
     ]
    }
   ],
   "source": [
    "comp1, val_acc, test_acc = run_model(GCN, data, QuantizerClass=None, compress=True)\n",
    "comp1_size1 = model_size(comp1)\n",
    "comp1_size2 = compress_model1(comp1)\n",
    "data_c1 = copy.deepcopy(data)   # so that original data is intact for next model compression\n",
    "data_c1.x = data_c1.x.half()  # cast input features to half so there is no type mismatch with weights which are now half\n",
    "accs = test(comp1, data_c1)    #returns [train_acc, val_acc, test_acc]\n",
    "comp1_results = [val_acc, accs[2]]\n",
    "\n",
    "print('Before compression:')\n",
    "print(f\"Model size = {comp1_size1 / 1024:.2f} KB\")\n",
    "print('After compression:')\n",
    "print(f\"Model size = {comp1_size2 / 1024:.2f} KB\")\n",
    "acc_results(comp1_results)\n",
    "print(f'Size difference = { (comp1_size1 - comp1_size2) / 1024} KB')\n",
    "print('Accuracy change = ', accs[2] - test_acc)"
   ]
  },
  {
   "cell_type": "code",
   "execution_count": null,
   "id": "b0f541be",
   "metadata": {},
   "outputs": [
    {
     "name": "stdout",
     "output_type": "stream",
     "text": [
      "Before compression:\n",
      "Model size = 40.12890625 KB\n",
      "After compression:\n",
      "Model size = 10.0634765625 KB\n",
      "Accuracy results:\n",
      "Validation = 0.8389, Test = 0.8102\n",
      "Size difference = 30.0654296875 KB\n",
      "Accuracy change =  -0.0022233624080725267\n"
     ]
    }
   ],
   "source": [
    "comp2, val_acc, test_acc = run_model(GCN, data, QuantizerClass=None, compress=True)\n",
    "comp2_size1 = model_size(comp2)\n",
    "comp2_size2 = compress_model2(comp2)\n",
    "accs = test(comp2, data)    #return accs  # [train_acc, val_acc, test_acc]\n",
    "comp2_results = [val_acc, accs[2]]\n",
    "\n",
    "print('Before compression:')\n",
    "print(f\"Model size = {comp2_size1 / 1024} KB\")\n",
    "print('After compression:')\n",
    "print(f\"Model size = {comp2_size2 / 1024} KB\")\n",
    "acc_results(comp2_results)\n",
    "print(f'Size difference = { (comp2_size1 - comp2_size2) / 1024} KB')\n",
    "print('Accuracy change = ', accs[2] - test_acc)"
   ]
  },
  {
   "cell_type": "markdown",
   "id": "10bf8a4f",
   "metadata": {},
   "source": [
    "Final data comparison"
   ]
  },
  {
   "cell_type": "code",
   "execution_count": null,
   "id": "eb0eeefc",
   "metadata": {},
   "outputs": [],
   "source": [
    "full_models = [\"Basic GCN\", \"Global quantization\", \"Feature quantization\", \"Node quantization\",\n",
    "               \"Neighbor sparsification [80,80]\", \"Neighbor sparsification [80,50]\", \"Neighbor sparsification [50,40]\",\n",
    "               \"Top-k neighbors, k=100\", \"Top-k neighbors, k=48\",\n",
    "               \"Feature sparsification, d=235\", \"Feature sparsification, d=105\"]\n",
    "\n",
    "accuracies = [gcn_results[1], q1_results[1], q2_results[1], q3_results[1], \n",
    "              nl1_results[1], nl2_results[1], nl3_results[1],\n",
    "              topk1_results[1], topk2_results[1],\n",
    "              fs1_results[1], fs2_results[1]]\n",
    "\n",
    "comm_sizes = torch.tensor([full_gcn, q1_total, q2_total, q3_total,\n",
    "              nl1_total, nl2_total, nl3_total,\n",
    "              topk1_total, topk2_total,\n",
    "              fs1_total, fs2_total])\n",
    "\n",
    "# when printing skip first diff\n",
    "diff_comm = (full_gcn - comm_sizes) / (1024.0**2)   # MB"
   ]
  },
  {
   "cell_type": "code",
   "execution_count": null,
   "id": "e9885c4e",
   "metadata": {},
   "outputs": [
    {
     "name": "stdout",
     "output_type": "stream",
     "text": [
      "----Basic GCN----\n",
      "Test accuracy = 0.8102\n",
      "Total communication = 563.28 MB\n",
      "\n",
      "----Global quantization----\n",
      "Test accuracy = 0.8146 (0.0044)\n",
      "Total communication = 182.69 MB\n",
      "Communication lowered by 67.57 % (-380.60 MB)\n",
      "\n",
      "----Feature quantization----\n",
      "Test accuracy = 0.8107 (0.0005)\n",
      "Total communication = 182.69 MB\n",
      "Communication lowered by 67.57 % (-380.59 MB)\n",
      "\n",
      "----Node quantization----\n",
      "Test accuracy = 0.8126 (0.0024)\n",
      "Total communication = 182.78 MB\n",
      "Communication lowered by 67.55 % (-380.51 MB)\n",
      "\n",
      "----Neighbor sparsification [80,80]----\n",
      "Test accuracy = 0.8108 (0.0007)\n",
      "Total communication = 413.08 MB\n",
      "Communication lowered by 26.66 % (-150.20 MB)\n",
      "\n",
      "----Neighbor sparsification [80,50]----\n",
      "Test accuracy = 0.8131 (0.0029)\n",
      "Total communication = 404.58 MB\n",
      "Communication lowered by 28.18 % (-158.71 MB)\n",
      "\n",
      "----Neighbor sparsification [50,40]----\n",
      "Test accuracy = 0.8149 (0.0048)\n",
      "Total communication = 323.37 MB\n",
      "Communication lowered by 42.59 % (-239.91 MB)\n",
      "\n",
      "----Top-k neighbors, k=100----\n",
      "Test accuracy = 0.8156 (0.0055)\n",
      "Total communication = 450.58 MB\n",
      "Communication lowered by 20.01 % (-112.71 MB)\n",
      "\n",
      "----Top-k neighbors, k=48----\n",
      "Test accuracy = 0.8038 (-0.0063)\n",
      "Total communication = 319.99 MB\n",
      "Communication lowered by 43.19 % (-243.30 MB)\n",
      "\n",
      "----Feature sparsification, d=235----\n",
      "Test accuracy = 0.7802 (-0.0299)\n",
      "Total communication = 453.33 MB\n",
      "Communication lowered by 19.52 % (-109.95 MB)\n",
      "\n",
      "----Feature sparsification, d=105----\n",
      "Test accuracy = 0.8040 (-0.0062)\n",
      "Total communication = 233.43 MB\n",
      "Communication lowered by 58.56 % (-329.85 MB)\n",
      "\n"
     ]
    }
   ],
   "source": [
    "gcn_acc = gcn_results[1]\n",
    "gcn_comm = full_gcn / (1024.0**2)\n",
    "\n",
    "for i, model in enumerate(full_models):\n",
    "    acc = accuracies[i]\n",
    "    comm = comm_sizes[i]\n",
    "    diff = diff_comm[i]\n",
    "\n",
    "    if i==0:\n",
    "        print(f\"----{model}----\")\n",
    "        print(f\"Test accuracy = {acc:.4f}\")\n",
    "        print(f\"Total communication = {comm / 1024**2:.2f} MB\")\n",
    "        print()\n",
    "        continue\n",
    "\n",
    "    print(f\"----{model}----\")\n",
    "    print(f\"Test accuracy = {acc:.4f} ({-(gcn_acc - acc):.4f})\")\n",
    "    print(f\"Total communication = {comm / 1024**2:.2f} MB\")\n",
    "    print(f\"Communication lowered by {diff / gcn_comm * 100:.2f} % (-{diff:.2f} MB)\")\n",
    "    print()"
   ]
  },
  {
   "cell_type": "code",
   "execution_count": null,
   "id": "54db1cf5",
   "metadata": {},
   "outputs": [
    {
     "data": {
      "image/png": "[encoded data removed]",
      "text/plain": [
       "<Figure size 800x500 with 1 Axes>"
      ]
     },
     "metadata": {},
     "output_type": "display_data"
    }
   ],
   "source": [
    "models = [\"GCN\", \"GLOBAL Q\", \"FEATURE Q\", \"NODE Q\",\n",
    "          \"NEIGH [80,80]\", \"NEIGH [80,50]\", \"NEIGH [50,40]\",\n",
    "          \"TOPK k=100\", \"TOPK k=48\",\n",
    "          \"FEAT d=235\", \"FEAT d=105\"]\n",
    "\n",
    "groups = {\"baseline\": [0],\n",
    "    \"quant\": [1, 2, 3],\n",
    "    \"neigh\": [4, 5, 6],\n",
    "    \"topk\": [7, 8],\n",
    "    \"feat\": [9, 10]}\n",
    "\n",
    "colors = {\"baseline\": \"black\",\n",
    "    \"quant\": \"blue\",\n",
    "    \"neigh\": \"green\",\n",
    "    \"topk\": \"red\",\n",
    "    \"feat\": \"orange\"}\n",
    "\n",
    "plt.figure(figsize=(8,5))\n",
    "for group, idxs in groups.items():\n",
    "    for i in idxs:\n",
    "        plt.scatter(comm_sizes[i], accuracies[i], s=100,\n",
    "                    color=colors[group], label=models[i] if i == idxs[0] else \"\")\n",
    "\n",
    "x_offset = (max(comm_sizes) - min(comm_sizes)) * 0.02\n",
    "y_offset = (max(accuracies) - min(accuracies)) * 0.01\n",
    "for i, (model, x, y) in enumerate(zip(models, comm_sizes, accuracies)):\n",
    "    plt.text(x + x_offset, y + y_offset, model, ha=\"left\", va=\"center\", fontsize=9)\n",
    "\n",
    "plt.xlim(min(comm_sizes) * 0.95, max(comm_sizes) * 1.1)\n",
    "plt.ylim(min(accuracies) - 0.005, max(accuracies) + 0.005)\n",
    "\n",
    "plt.xlabel(\"Communication Size (MB)\")\n",
    "plt.ylabel(\"Test Accuracy\")\n",
    "plt.title(\"Accuracy vs Communication Cost\")\n",
    "plt.grid(True, linestyle=\"--\", alpha=0.6)\n",
    "plt.show()"
   ]
  }
 ],
 "metadata": {
  "kernelspec": {
   "display_name": "Python (gnn)",
   "language": "python",
   "name": "gnn"
  },
  "language_info": {
   "codemirror_mode": {
    "name": "ipython",
    "version": 3
   },
   "file_extension": ".py",
   "mimetype": "text/x-python",
   "name": "python",
   "nbconvert_exporter": "python",
   "pygments_lexer": "ipython3",
   "version": "3.10.14"
  }
 },
 "nbformat": 4,
 "nbformat_minor": 5
}
